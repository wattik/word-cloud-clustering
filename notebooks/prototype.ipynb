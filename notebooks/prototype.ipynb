{
 "cells": [
  {
   "cell_type": "code",
   "execution_count": 17,
   "metadata": {
    "collapsed": true
   },
   "outputs": [],
   "source": [
    "import networkx as nx\n",
    "import numpy as np\n",
    "import scipy as sp\n",
    "from scipy.cluster.hierarchy import linkage, to_tree, dendrogram"
   ]
  },
  {
   "cell_type": "code",
   "execution_count": 2,
   "metadata": {},
   "outputs": [
    {
     "name": "stdout",
     "output_type": "stream",
     "text": [
      "[0.25       0.2               inf        inf        inf 0.16666667\n        inf        inf        inf        inf 1.                inf\n 0.25       0.2        0.16666667]\n"
     ]
    },
    {
     "name": "stderr",
     "output_type": "stream",
     "text": [
      "/Library/Frameworks/Python.framework/Versions/3.6/lib/python3.6/site-packages/ipykernel_launcher.py:2: RuntimeWarning: divide by zero encountered in true_divide\n  \n"
     ]
    }
   ],
   "source": [
    "nodes = [\"A\", \"B\", \"C\", \"D\", \"E\", \"F\"]\n",
    "\n",
    "g = nx.Graph()\n",
    "g.add_edge(\"A\", \"B\", weight=4)\n",
    "g.add_edge(\"C\", \"B\", weight=6)\n",
    "g.add_edge(\"A\", \"C\", weight=5)\n",
    "\n",
    "g.add_edge(\"C\", \"E\", weight=1)\n",
    "\n",
    "g.add_edge(\"D\", \"E\", weight=4)\n",
    "g.add_edge(\"F\", \"E\", weight=6)\n",
    "g.add_edge(\"D\", \"F\", weight=5)\n",
    "\n",
    "connectivity = nx.to_scipy_sparse_matrix(g, nodelist=nodes)\n"
   ]
  },
  {
   "cell_type": "code",
   "execution_count": 9,
   "metadata": {},
   "outputs": [
    {
     "name": "stdout",
     "output_type": "stream",
     "text": [
      "[ 0.25        0.2        10.         10.         10.          0.16666667\n 10.         10.         10.         10.          1.         10.\n  0.25        0.2         0.16666667]\n"
     ]
    },
    {
     "name": "stderr",
     "output_type": "stream",
     "text": [
      "/Library/Frameworks/Python.framework/Versions/3.6/lib/python3.6/site-packages/ipykernel_launcher.py:2: RuntimeWarning: divide by zero encountered in true_divide\n  \n"
     ]
    }
   ],
   "source": [
    "X = connectivity.todense()\n",
    "X = 1 / X\n",
    "np.fill_diagonal(X, 0)\n",
    "X[X == np.inf] = 10\n",
    "y = sp.spatial.distance.squareform(X, force='tovector', checks=False)\n",
    "\n"
   ]
  },
  {
   "cell_type": "code",
   "execution_count": 10,
   "metadata": {},
   "outputs": [],
   "source": [
    "Z = linkage(y)\n",
    "\n"
   ]
  },
  {
   "cell_type": "code",
   "execution_count": 14,
   "metadata": {},
   "outputs": [],
   "source": [
    "tree = to_tree(Z)"
   ]
  },
  {
   "cell_type": "code",
   "execution_count": 23,
   "metadata": {},
   "outputs": [],
   "source": [
    "from matplotlib import pyplot as plt\n",
    "plt.figure()\n",
    "dendrogram(Z, labels=nodes)\n",
    "plt.show()"
   ]
  },
  {
   "cell_type": "code",
   "execution_count": null,
   "metadata": {},
   "outputs": [],
   "source": []
  }
 ],
 "metadata": {
  "kernelspec": {
   "display_name": "Python 2",
   "language": "python",
   "name": "python2"
  },
  "language_info": {
   "codemirror_mode": {
    "name": "ipython",
    "version": 2
   },
   "file_extension": ".py",
   "mimetype": "text/x-python",
   "name": "python",
   "nbconvert_exporter": "python",
   "pygments_lexer": "ipython2",
   "version": "2.7.6"
  }
 },
 "nbformat": 4,
 "nbformat_minor": 0
}
